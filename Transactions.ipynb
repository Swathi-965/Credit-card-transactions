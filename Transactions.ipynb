{
 "cells": [
  {
   "cell_type": "markdown",
   "metadata": {},
   "source": [
    "# DATA SCIENCE CHALLENGE - CARD TRANSACTIONS"
   ]
  },
  {
   "cell_type": "markdown",
   "metadata": {},
   "source": [
    "This coding and analysis challenge is designed to test your skill and intuition analyzing real[-ish] world data. For the challenge, we will use credit card transactions data. Note that this dataset loosely resembles real transactional data from Capital One credit card customers, but the entities and relations within are purely fictional. No persons, places, or things lost their identity in the making of this dataset."
   ]
  },
  {
   "cell_type": "markdown",
   "metadata": {},
   "source": [
    "# Candidate ID: C1836682_BS"
   ]
  },
  {
   "cell_type": "code",
   "execution_count": 1,
   "metadata": {
    "colab": {
     "base_uri": "https://localhost:8080/"
    },
    "executionInfo": {
     "elapsed": 789,
     "status": "ok",
     "timestamp": 1614925168298,
     "user": {
      "displayName": "swathi bodavula",
      "photoUrl": "https://lh3.googleusercontent.com/a-/AOh14GgrWmc5eDEGqJwkDV-2AzAcOv62Q2MuZeBvE0OdPw=s64",
      "userId": "12881957410691203182"
     },
     "user_tz": 360
    },
    "id": "50oHObyHOJe0",
    "outputId": "2521a175-c0e2-4fa7-9a58-9816badc5d37"
   },
   "outputs": [],
   "source": [
    "import pandas as pd\n",
    "import numpy as np\n",
    "import re\n",
    "import sys\n",
    "import matplotlib.pyplot as plt\n",
    "from datetime import datetime\n",
    "from sklearn import preprocessing\n",
    "from sklearn.model_selection import train_test_split\n",
    "from sklearn.metrics import accuracy_score\n",
    "from sklearn.metrics import precision_score, recall_score, f1_score\n",
    "import random\n",
    "random.seed(1)"
   ]
  },
  {
   "cell_type": "markdown",
   "metadata": {},
   "source": [
    "#  Python version"
   ]
  },
  {
   "cell_type": "code",
   "execution_count": 2,
   "metadata": {},
   "outputs": [
    {
     "name": "stdout",
     "output_type": "stream",
     "text": [
      "Python Version 3.7.4 (default, Aug  9 2019, 18:34:13) [MSC v.1915 64 bit (AMD64)]\n"
     ]
    }
   ],
   "source": [
    "print(\"Python Version\", sys.version)"
   ]
  },
  {
   "cell_type": "code",
   "execution_count": 3,
   "metadata": {
    "executionInfo": {
     "elapsed": 778,
     "status": "ok",
     "timestamp": 1614925168305,
     "user": {
      "displayName": "swathi bodavula",
      "photoUrl": "https://lh3.googleusercontent.com/a-/AOh14GgrWmc5eDEGqJwkDV-2AzAcOv62Q2MuZeBvE0OdPw=s64",
      "userId": "12881957410691203182"
     },
     "user_tz": 360
    },
    "id": "SwUfDH5QOJe7"
   },
   "outputs": [],
   "source": [
    "dict1 = {}"
   ]
  },
  {
   "cell_type": "markdown",
   "metadata": {
    "id": "trv0HlYaVlkx"
   },
   "source": [
    "## **QUESTION** 1"
   ]
  },
  {
   "cell_type": "markdown",
   "metadata": {
    "id": "tXJaU6ajQl-7"
   },
   "source": [
    "**a.   *READING THE DATASET FROM THE TEXT FILE* .**"
   ]
  },
  {
   "cell_type": "code",
   "execution_count": 4,
   "metadata": {
    "executionInfo": {
     "elapsed": 74114,
     "status": "ok",
     "timestamp": 1614925241652,
     "user": {
      "displayName": "swathi bodavula",
      "photoUrl": "https://lh3.googleusercontent.com/a-/AOh14GgrWmc5eDEGqJwkDV-2AzAcOv62Q2MuZeBvE0OdPw=s64",
      "userId": "12881957410691203182"
     },
     "user_tz": 360
    },
    "id": "zf7irx27LF1h"
   },
   "outputs": [],
   "source": [
    "text_data = open(\"transactions.txt\",\"r\")\n",
    "data = text_data.readlines()\n",
    "\n",
    "for rows in data:\n",
    "    i = rows.strip().split(\",\")\n",
    "\n",
    "    for j in i:\n",
    "      index = j.index(\":\")\n",
    "      feature = j[:index]\n",
    "      feature = re.sub(r'[^\\w\\s]','',feature).strip()\n",
    "      values = j[index+1:]\n",
    "\n",
    "      if feature not in dict1.keys():\n",
    "        dict1[feature] = []\n",
    "        dict1[feature].append(values)\n",
    "      else:\n",
    "        dict1[feature].append(values)"
   ]
  },
  {
   "cell_type": "code",
   "execution_count": 5,
   "metadata": {
    "colab": {
     "base_uri": "https://localhost:8080/",
     "height": 243
    },
    "executionInfo": {
     "elapsed": 82713,
     "status": "ok",
     "timestamp": 1614925250266,
     "user": {
      "displayName": "swathi bodavula",
      "photoUrl": "https://lh3.googleusercontent.com/a-/AOh14GgrWmc5eDEGqJwkDV-2AzAcOv62Q2MuZeBvE0OdPw=s64",
      "userId": "12881957410691203182"
     },
     "user_tz": 360
    },
    "id": "U4KKk7-sQUci",
    "outputId": "43e607e7-7b3c-4a85-c658-a4e780bf7d63"
   },
   "outputs": [
    {
     "data": {
      "text/html": [
       "<div>\n",
       "<style scoped>\n",
       "    .dataframe tbody tr th:only-of-type {\n",
       "        vertical-align: middle;\n",
       "    }\n",
       "\n",
       "    .dataframe tbody tr th {\n",
       "        vertical-align: top;\n",
       "    }\n",
       "\n",
       "    .dataframe thead th {\n",
       "        text-align: right;\n",
       "    }\n",
       "</style>\n",
       "<table border=\"1\" class=\"dataframe\">\n",
       "  <thead>\n",
       "    <tr style=\"text-align: right;\">\n",
       "      <th></th>\n",
       "      <th>accountNumber</th>\n",
       "      <th>customerId</th>\n",
       "      <th>creditLimit</th>\n",
       "      <th>availableMoney</th>\n",
       "      <th>transactionDateTime</th>\n",
       "      <th>transactionAmount</th>\n",
       "      <th>merchantName</th>\n",
       "      <th>acqCountry</th>\n",
       "      <th>merchantCountryCode</th>\n",
       "      <th>posEntryMode</th>\n",
       "      <th>...</th>\n",
       "      <th>echoBuffer</th>\n",
       "      <th>currentBalance</th>\n",
       "      <th>merchantCity</th>\n",
       "      <th>merchantState</th>\n",
       "      <th>merchantZip</th>\n",
       "      <th>cardPresent</th>\n",
       "      <th>posOnPremises</th>\n",
       "      <th>recurringAuthInd</th>\n",
       "      <th>expirationDateKeyInMatch</th>\n",
       "      <th>isFraud</th>\n",
       "    </tr>\n",
       "  </thead>\n",
       "  <tbody>\n",
       "    <tr>\n",
       "      <td>0</td>\n",
       "      <td>\"737265056\"</td>\n",
       "      <td>\"737265056\"</td>\n",
       "      <td>5000.0</td>\n",
       "      <td>5000.0</td>\n",
       "      <td>\"2016-08-13T14:27:32\"</td>\n",
       "      <td>98.55</td>\n",
       "      <td>\"Uber\"</td>\n",
       "      <td>\"US\"</td>\n",
       "      <td>\"US\"</td>\n",
       "      <td>\"02\"</td>\n",
       "      <td>...</td>\n",
       "      <td>\"\"</td>\n",
       "      <td>0.0</td>\n",
       "      <td>\"\"</td>\n",
       "      <td>\"\"</td>\n",
       "      <td>\"\"</td>\n",
       "      <td>false</td>\n",
       "      <td>\"\"</td>\n",
       "      <td>\"\"</td>\n",
       "      <td>false</td>\n",
       "      <td>false}</td>\n",
       "    </tr>\n",
       "    <tr>\n",
       "      <td>1</td>\n",
       "      <td>\"737265056\"</td>\n",
       "      <td>\"737265056\"</td>\n",
       "      <td>5000.0</td>\n",
       "      <td>5000.0</td>\n",
       "      <td>\"2016-10-11T05:05:54\"</td>\n",
       "      <td>74.51</td>\n",
       "      <td>\"AMC #191138\"</td>\n",
       "      <td>\"US\"</td>\n",
       "      <td>\"US\"</td>\n",
       "      <td>\"09\"</td>\n",
       "      <td>...</td>\n",
       "      <td>\"\"</td>\n",
       "      <td>0.0</td>\n",
       "      <td>\"\"</td>\n",
       "      <td>\"\"</td>\n",
       "      <td>\"\"</td>\n",
       "      <td>true</td>\n",
       "      <td>\"\"</td>\n",
       "      <td>\"\"</td>\n",
       "      <td>false</td>\n",
       "      <td>false}</td>\n",
       "    </tr>\n",
       "    <tr>\n",
       "      <td>2</td>\n",
       "      <td>\"737265056\"</td>\n",
       "      <td>\"737265056\"</td>\n",
       "      <td>5000.0</td>\n",
       "      <td>5000.0</td>\n",
       "      <td>\"2016-11-08T09:18:39\"</td>\n",
       "      <td>7.47</td>\n",
       "      <td>\"Play Store\"</td>\n",
       "      <td>\"US\"</td>\n",
       "      <td>\"US\"</td>\n",
       "      <td>\"09\"</td>\n",
       "      <td>...</td>\n",
       "      <td>\"\"</td>\n",
       "      <td>0.0</td>\n",
       "      <td>\"\"</td>\n",
       "      <td>\"\"</td>\n",
       "      <td>\"\"</td>\n",
       "      <td>false</td>\n",
       "      <td>\"\"</td>\n",
       "      <td>\"\"</td>\n",
       "      <td>false</td>\n",
       "      <td>false}</td>\n",
       "    </tr>\n",
       "    <tr>\n",
       "      <td>3</td>\n",
       "      <td>\"737265056\"</td>\n",
       "      <td>\"737265056\"</td>\n",
       "      <td>5000.0</td>\n",
       "      <td>5000.0</td>\n",
       "      <td>\"2016-12-10T02:14:50\"</td>\n",
       "      <td>7.47</td>\n",
       "      <td>\"Play Store\"</td>\n",
       "      <td>\"US\"</td>\n",
       "      <td>\"US\"</td>\n",
       "      <td>\"09\"</td>\n",
       "      <td>...</td>\n",
       "      <td>\"\"</td>\n",
       "      <td>0.0</td>\n",
       "      <td>\"\"</td>\n",
       "      <td>\"\"</td>\n",
       "      <td>\"\"</td>\n",
       "      <td>false</td>\n",
       "      <td>\"\"</td>\n",
       "      <td>\"\"</td>\n",
       "      <td>false</td>\n",
       "      <td>false}</td>\n",
       "    </tr>\n",
       "    <tr>\n",
       "      <td>4</td>\n",
       "      <td>\"830329091\"</td>\n",
       "      <td>\"830329091\"</td>\n",
       "      <td>5000.0</td>\n",
       "      <td>5000.0</td>\n",
       "      <td>\"2016-03-24T21:04:46\"</td>\n",
       "      <td>71.18</td>\n",
       "      <td>\"Tim Hortons #947751\"</td>\n",
       "      <td>\"US\"</td>\n",
       "      <td>\"US\"</td>\n",
       "      <td>\"02\"</td>\n",
       "      <td>...</td>\n",
       "      <td>\"\"</td>\n",
       "      <td>0.0</td>\n",
       "      <td>\"\"</td>\n",
       "      <td>\"\"</td>\n",
       "      <td>\"\"</td>\n",
       "      <td>true</td>\n",
       "      <td>\"\"</td>\n",
       "      <td>\"\"</td>\n",
       "      <td>false</td>\n",
       "      <td>false}</td>\n",
       "    </tr>\n",
       "  </tbody>\n",
       "</table>\n",
       "<p>5 rows × 29 columns</p>\n",
       "</div>"
      ],
      "text/plain": [
       "  accountNumber    customerId creditLimit availableMoney  \\\n",
       "0   \"737265056\"   \"737265056\"      5000.0         5000.0   \n",
       "1   \"737265056\"   \"737265056\"      5000.0         5000.0   \n",
       "2   \"737265056\"   \"737265056\"      5000.0         5000.0   \n",
       "3   \"737265056\"   \"737265056\"      5000.0         5000.0   \n",
       "4   \"830329091\"   \"830329091\"      5000.0         5000.0   \n",
       "\n",
       "      transactionDateTime transactionAmount            merchantName  \\\n",
       "0   \"2016-08-13T14:27:32\"             98.55                  \"Uber\"   \n",
       "1   \"2016-10-11T05:05:54\"             74.51           \"AMC #191138\"   \n",
       "2   \"2016-11-08T09:18:39\"              7.47            \"Play Store\"   \n",
       "3   \"2016-12-10T02:14:50\"              7.47            \"Play Store\"   \n",
       "4   \"2016-03-24T21:04:46\"             71.18   \"Tim Hortons #947751\"   \n",
       "\n",
       "  acqCountry merchantCountryCode posEntryMode  ... echoBuffer currentBalance  \\\n",
       "0       \"US\"                \"US\"         \"02\"  ...         \"\"            0.0   \n",
       "1       \"US\"                \"US\"         \"09\"  ...         \"\"            0.0   \n",
       "2       \"US\"                \"US\"         \"09\"  ...         \"\"            0.0   \n",
       "3       \"US\"                \"US\"         \"09\"  ...         \"\"            0.0   \n",
       "4       \"US\"                \"US\"         \"02\"  ...         \"\"            0.0   \n",
       "\n",
       "  merchantCity merchantState merchantZip cardPresent posOnPremises  \\\n",
       "0           \"\"            \"\"          \"\"       false            \"\"   \n",
       "1           \"\"            \"\"          \"\"        true            \"\"   \n",
       "2           \"\"            \"\"          \"\"       false            \"\"   \n",
       "3           \"\"            \"\"          \"\"       false            \"\"   \n",
       "4           \"\"            \"\"          \"\"        true            \"\"   \n",
       "\n",
       "  recurringAuthInd expirationDateKeyInMatch  isFraud  \n",
       "0               \"\"                    false   false}  \n",
       "1               \"\"                    false   false}  \n",
       "2               \"\"                    false   false}  \n",
       "3               \"\"                    false   false}  \n",
       "4               \"\"                    false   false}  \n",
       "\n",
       "[5 rows x 29 columns]"
      ]
     },
     "execution_count": 5,
     "metadata": {},
     "output_type": "execute_result"
    }
   ],
   "source": [
    "df = pd.DataFrame(dict1)\n",
    "df.head()"
   ]
  },
  {
   "cell_type": "markdown",
   "metadata": {
    "id": "MB5am3uzexbm"
   },
   "source": [
    "### ***b.  Please describe the structure of the data. Number of records and fields in each record.***"
   ]
  },
  {
   "cell_type": "code",
   "execution_count": 6,
   "metadata": {
    "colab": {
     "base_uri": "https://localhost:8080/"
    },
    "executionInfo": {
     "elapsed": 82700,
     "status": "ok",
     "timestamp": 1614925250269,
     "user": {
      "displayName": "swathi bodavula",
      "photoUrl": "https://lh3.googleusercontent.com/a-/AOh14GgrWmc5eDEGqJwkDV-2AzAcOv62Q2MuZeBvE0OdPw=s64",
      "userId": "12881957410691203182"
     },
     "user_tz": 360
    },
    "id": "5D_WcC4HUycC",
    "outputId": "48edfed8-6398-4a1e-cbd1-d8ede20c53ad"
   },
   "outputs": [
    {
     "name": "stdout",
     "output_type": "stream",
     "text": [
      "Number of records: 786363\n",
      "Number of fields: 29\n"
     ]
    }
   ],
   "source": [
    "rows = len(df.axes[0])\n",
    "columns = len(df.axes[1])\n",
    "print(\"Number of records:\",rows)\n",
    "print(\"Number of fields:\",columns)"
   ]
  },
  {
   "cell_type": "markdown",
   "metadata": {
    "id": "1LSO5E4WRQyT"
   },
   "source": [
    "**CLEANED THE DATASET FOR FURTHER ANALYSIS.**\n",
    "\n",
    "\n",
    "1.   Removed the braces \"{\" and white spaces from the columns.\n",
    "2.   Replaced quotes by empty string.\n",
    "3.   To remove empty strings, replaced with null value and remvoved them.\n"
   ]
  },
  {
   "cell_type": "code",
   "execution_count": 7,
   "metadata": {
    "executionInfo": {
     "elapsed": 147140,
     "status": "ok",
     "timestamp": 1614925314716,
     "user": {
      "displayName": "swathi bodavula",
      "photoUrl": "https://lh3.googleusercontent.com/a-/AOh14GgrWmc5eDEGqJwkDV-2AzAcOv62Q2MuZeBvE0OdPw=s64",
      "userId": "12881957410691203182"
     },
     "user_tz": 360
    },
    "id": "K7FMYyq6f5kg"
   },
   "outputs": [],
   "source": [
    "# removing braces from the columns\n",
    "df.replace(\"}\",\"\",regex = True, inplace = True)\n",
    "\n",
    "# Replacing quotes by empty string\n",
    "attributes = [\"accountNumber\",\"transactionDateTime\",\"accountOpenDate\",\"dateOfLastAddressChange\",\"transactionType\",\"accountNumber\",\"customerId\",\"posEntryMode\",\"posConditionCode\", \n",
    "              \"merchantCategoryCode\",\"cardCVV\",\"enteredCVV\",\"cardLast4Digits\"]\n",
    "for i in attributes:\n",
    "  df[i] = df[i].str.replace('\"',\"\")\n",
    "\n",
    "# removing white spaces\n",
    "df = df.apply(lambda x: x.str.strip() if x.dtype == \"object\" else x)\n",
    "\n",
    "# To remove empty strings replaced with null value and removed them from the dataset.\n",
    "df.replace(\"\", np.nan, inplace = True)\n",
    "df.dropna(inplace = True)"
   ]
  },
  {
   "cell_type": "code",
   "execution_count": 8,
   "metadata": {
    "colab": {
     "base_uri": "https://localhost:8080/",
     "height": 195
    },
    "executionInfo": {
     "elapsed": 153351,
     "status": "ok",
     "timestamp": 1614925320932,
     "user": {
      "displayName": "swathi bodavula",
      "photoUrl": "https://lh3.googleusercontent.com/a-/AOh14GgrWmc5eDEGqJwkDV-2AzAcOv62Q2MuZeBvE0OdPw=s64",
      "userId": "12881957410691203182"
     },
     "user_tz": 360
    },
    "id": "9_R58qeNjfUw",
    "outputId": "7f7eb0d3-62a9-4b3b-b2aa-16bcaf3ec00e"
   },
   "outputs": [
    {
     "data": {
      "text/html": [
       "<div>\n",
       "<style scoped>\n",
       "    .dataframe tbody tr th:only-of-type {\n",
       "        vertical-align: middle;\n",
       "    }\n",
       "\n",
       "    .dataframe tbody tr th {\n",
       "        vertical-align: top;\n",
       "    }\n",
       "\n",
       "    .dataframe thead th {\n",
       "        text-align: right;\n",
       "    }\n",
       "</style>\n",
       "<table border=\"1\" class=\"dataframe\">\n",
       "  <thead>\n",
       "    <tr style=\"text-align: right;\">\n",
       "      <th></th>\n",
       "      <th>accountNumber</th>\n",
       "      <th>customerId</th>\n",
       "      <th>creditLimit</th>\n",
       "      <th>availableMoney</th>\n",
       "      <th>transactionDateTime</th>\n",
       "      <th>transactionAmount</th>\n",
       "      <th>merchantName</th>\n",
       "      <th>acqCountry</th>\n",
       "      <th>merchantCountryCode</th>\n",
       "      <th>posEntryMode</th>\n",
       "      <th>...</th>\n",
       "      <th>echoBuffer</th>\n",
       "      <th>currentBalance</th>\n",
       "      <th>merchantCity</th>\n",
       "      <th>merchantState</th>\n",
       "      <th>merchantZip</th>\n",
       "      <th>cardPresent</th>\n",
       "      <th>posOnPremises</th>\n",
       "      <th>recurringAuthInd</th>\n",
       "      <th>expirationDateKeyInMatch</th>\n",
       "      <th>isFraud</th>\n",
       "    </tr>\n",
       "  </thead>\n",
       "  <tbody>\n",
       "    <tr>\n",
       "      <td>count</td>\n",
       "      <td>781207</td>\n",
       "      <td>781207</td>\n",
       "      <td>781207</td>\n",
       "      <td>781207</td>\n",
       "      <td>781207</td>\n",
       "      <td>781207</td>\n",
       "      <td>781207</td>\n",
       "      <td>781207</td>\n",
       "      <td>781207</td>\n",
       "      <td>781207</td>\n",
       "      <td>...</td>\n",
       "      <td>781207</td>\n",
       "      <td>781207</td>\n",
       "      <td>781207</td>\n",
       "      <td>781207</td>\n",
       "      <td>781207</td>\n",
       "      <td>781207</td>\n",
       "      <td>781207</td>\n",
       "      <td>781207</td>\n",
       "      <td>781207</td>\n",
       "      <td>781207</td>\n",
       "    </tr>\n",
       "    <tr>\n",
       "      <td>unique</td>\n",
       "      <td>4998</td>\n",
       "      <td>4998</td>\n",
       "      <td>10</td>\n",
       "      <td>519470</td>\n",
       "      <td>771620</td>\n",
       "      <td>65931</td>\n",
       "      <td>2489</td>\n",
       "      <td>5</td>\n",
       "      <td>5</td>\n",
       "      <td>5</td>\n",
       "      <td>...</td>\n",
       "      <td>1</td>\n",
       "      <td>485232</td>\n",
       "      <td>1</td>\n",
       "      <td>1</td>\n",
       "      <td>1</td>\n",
       "      <td>2</td>\n",
       "      <td>1</td>\n",
       "      <td>1</td>\n",
       "      <td>2</td>\n",
       "      <td>2</td>\n",
       "    </tr>\n",
       "    <tr>\n",
       "      <td>top</td>\n",
       "      <td>380680241</td>\n",
       "      <td>380680241</td>\n",
       "      <td>5000.0</td>\n",
       "      <td>250.0</td>\n",
       "      <td>2016-12-25T14:04:15</td>\n",
       "      <td>0.0</td>\n",
       "      <td>\"Uber\"</td>\n",
       "      <td>\"US\"</td>\n",
       "      <td>\"US\"</td>\n",
       "      <td>05</td>\n",
       "      <td>...</td>\n",
       "      <td>\"\"</td>\n",
       "      <td>0.0</td>\n",
       "      <td>\"\"</td>\n",
       "      <td>\"\"</td>\n",
       "      <td>\"\"</td>\n",
       "      <td>false</td>\n",
       "      <td>\"\"</td>\n",
       "      <td>\"\"</td>\n",
       "      <td>false</td>\n",
       "      <td>false</td>\n",
       "    </tr>\n",
       "    <tr>\n",
       "      <td>freq</td>\n",
       "      <td>32648</td>\n",
       "      <td>32648</td>\n",
       "      <td>200597</td>\n",
       "      <td>5980</td>\n",
       "      <td>4</td>\n",
       "      <td>22121</td>\n",
       "      <td>25437</td>\n",
       "      <td>769623</td>\n",
       "      <td>773405</td>\n",
       "      <td>314565</td>\n",
       "      <td>...</td>\n",
       "      <td>781207</td>\n",
       "      <td>33448</td>\n",
       "      <td>781207</td>\n",
       "      <td>781207</td>\n",
       "      <td>781207</td>\n",
       "      <td>430666</td>\n",
       "      <td>781207</td>\n",
       "      <td>781207</td>\n",
       "      <td>780169</td>\n",
       "      <td>769094</td>\n",
       "    </tr>\n",
       "  </tbody>\n",
       "</table>\n",
       "<p>4 rows × 29 columns</p>\n",
       "</div>"
      ],
      "text/plain": [
       "       accountNumber customerId creditLimit availableMoney  \\\n",
       "count         781207     781207      781207         781207   \n",
       "unique          4998       4998          10         519470   \n",
       "top        380680241  380680241      5000.0          250.0   \n",
       "freq           32648      32648      200597           5980   \n",
       "\n",
       "        transactionDateTime transactionAmount merchantName acqCountry  \\\n",
       "count                781207            781207       781207     781207   \n",
       "unique               771620             65931         2489          5   \n",
       "top     2016-12-25T14:04:15               0.0       \"Uber\"       \"US\"   \n",
       "freq                      4             22121        25437     769623   \n",
       "\n",
       "       merchantCountryCode posEntryMode  ... echoBuffer currentBalance  \\\n",
       "count               781207       781207  ...     781207         781207   \n",
       "unique                   5            5  ...          1         485232   \n",
       "top                   \"US\"           05  ...         \"\"            0.0   \n",
       "freq                773405       314565  ...     781207          33448   \n",
       "\n",
       "       merchantCity merchantState merchantZip cardPresent posOnPremises  \\\n",
       "count        781207        781207      781207      781207        781207   \n",
       "unique            1             1           1           2             1   \n",
       "top              \"\"            \"\"          \"\"       false            \"\"   \n",
       "freq         781207        781207      781207      430666        781207   \n",
       "\n",
       "       recurringAuthInd expirationDateKeyInMatch isFraud  \n",
       "count            781207                   781207  781207  \n",
       "unique                1                        2       2  \n",
       "top                  \"\"                    false   false  \n",
       "freq             781207                   780169  769094  \n",
       "\n",
       "[4 rows x 29 columns]"
      ]
     },
     "execution_count": 8,
     "metadata": {},
     "output_type": "execute_result"
    }
   ],
   "source": [
    "df.describe()"
   ]
  },
  {
   "cell_type": "code",
   "execution_count": 9,
   "metadata": {
    "colab": {
     "base_uri": "https://localhost:8080/"
    },
    "executionInfo": {
     "elapsed": 153903,
     "status": "ok",
     "timestamp": 1614925321489,
     "user": {
      "displayName": "swathi bodavula",
      "photoUrl": "https://lh3.googleusercontent.com/a-/AOh14GgrWmc5eDEGqJwkDV-2AzAcOv62Q2MuZeBvE0OdPw=s64",
      "userId": "12881957410691203182"
     },
     "user_tz": 360
    },
    "id": "18_e_72VY5M7",
    "outputId": "b9ab3748-6bcf-4a2a-d01a-53550b326fca"
   },
   "outputs": [
    {
     "name": "stdout",
     "output_type": "stream",
     "text": [
      "<class 'pandas.core.frame.DataFrame'>\n",
      "Int64Index: 781207 entries, 0 to 786362\n",
      "Data columns (total 29 columns):\n",
      "accountNumber               781207 non-null object\n",
      "customerId                  781207 non-null object\n",
      "creditLimit                 781207 non-null object\n",
      "availableMoney              781207 non-null object\n",
      "transactionDateTime         781207 non-null object\n",
      "transactionAmount           781207 non-null object\n",
      "merchantName                781207 non-null object\n",
      "acqCountry                  781207 non-null object\n",
      "merchantCountryCode         781207 non-null object\n",
      "posEntryMode                781207 non-null object\n",
      "posConditionCode            781207 non-null object\n",
      "merchantCategoryCode        781207 non-null object\n",
      "currentExpDate              781207 non-null object\n",
      "accountOpenDate             781207 non-null object\n",
      "dateOfLastAddressChange     781207 non-null object\n",
      "cardCVV                     781207 non-null object\n",
      "enteredCVV                  781207 non-null object\n",
      "cardLast4Digits             781207 non-null object\n",
      "transactionType             781207 non-null object\n",
      "echoBuffer                  781207 non-null object\n",
      "currentBalance              781207 non-null object\n",
      "merchantCity                781207 non-null object\n",
      "merchantState               781207 non-null object\n",
      "merchantZip                 781207 non-null object\n",
      "cardPresent                 781207 non-null object\n",
      "posOnPremises               781207 non-null object\n",
      "recurringAuthInd            781207 non-null object\n",
      "expirationDateKeyInMatch    781207 non-null object\n",
      "isFraud                     781207 non-null object\n",
      "dtypes: object(29)\n",
      "memory usage: 178.8+ MB\n"
     ]
    }
   ],
   "source": [
    "df.info()"
   ]
  },
  {
   "cell_type": "markdown",
   "metadata": {
    "id": "2uO5GVLJXIID"
   },
   "source": [
    "**Dropped the columns which are empty strings.**\n",
    "\n",
    "\n"
   ]
  },
  {
   "cell_type": "code",
   "execution_count": 10,
   "metadata": {
    "executionInfo": {
     "elapsed": 154411,
     "status": "ok",
     "timestamp": 1614925322003,
     "user": {
      "displayName": "swathi bodavula",
      "photoUrl": "https://lh3.googleusercontent.com/a-/AOh14GgrWmc5eDEGqJwkDV-2AzAcOv62Q2MuZeBvE0OdPw=s64",
      "userId": "12881957410691203182"
     },
     "user_tz": 360
    },
    "id": "d0QhAp09Zdln"
   },
   "outputs": [],
   "source": [
    "# remove the columns which are empty strings\n",
    "df.drop([\"echoBuffer\",\"merchantCity\",\"merchantState\",\"merchantZip\",\"posOnPremises\",\"recurringAuthInd\"],axis = 1, inplace = True)"
   ]
  },
  {
   "cell_type": "markdown",
   "metadata": {
    "id": "9OsK5sgBXXFb"
   },
   "source": [
    "*    All the columns data are imported as strings, some of the \n",
    "columns which are numbers should be in integer or float type.\n",
    "*    Converted the columns into their respective integer and float datatypes. "
   ]
  },
  {
   "cell_type": "code",
   "execution_count": 11,
   "metadata": {
    "executionInfo": {
     "elapsed": 158357,
     "status": "ok",
     "timestamp": 1614925325955,
     "user": {
      "displayName": "swathi bodavula",
      "photoUrl": "https://lh3.googleusercontent.com/a-/AOh14GgrWmc5eDEGqJwkDV-2AzAcOv62Q2MuZeBvE0OdPw=s64",
      "userId": "12881957410691203182"
     },
     "user_tz": 360
    },
    "id": "w_E1WYl53ql7"
   },
   "outputs": [],
   "source": [
    "int_cols = [\"accountNumber\",\"customerId\",\"posEntryMode\",\"posConditionCode\",\"cardCVV\",\"enteredCVV\",\n",
    "            \"cardLast4Digits\"]\n",
    "float_cols = [\"creditLimit\",\"availableMoney\",\"transactionAmount\",\"currentBalance\"]\n",
    "\n",
    "for col in int_cols:\n",
    "  df[col] = df[col].astype(int)\n",
    "\n",
    "for col in float_cols:\n",
    "  df[col] = df[col].astype(float)"
   ]
  },
  {
   "cell_type": "markdown",
   "metadata": {
    "id": "6ItpaiOSYzVj"
   },
   "source": [
    "### ***SUMMARY STATSISICS FOR FRAUD TRANSACTION.***"
   ]
  },
  {
   "cell_type": "code",
   "execution_count": 12,
   "metadata": {
    "colab": {
     "base_uri": "https://localhost:8080/",
     "height": 320
    },
    "executionInfo": {
     "elapsed": 158499,
     "status": "ok",
     "timestamp": 1614925326106,
     "user": {
      "displayName": "swathi bodavula",
      "photoUrl": "https://lh3.googleusercontent.com/a-/AOh14GgrWmc5eDEGqJwkDV-2AzAcOv62Q2MuZeBvE0OdPw=s64",
      "userId": "12881957410691203182"
     },
     "user_tz": 360
    },
    "id": "mgJIrpA5owYw",
    "outputId": "c3c93558-a58b-4581-e4c5-3f3781ea0162"
   },
   "outputs": [
    {
     "data": {
      "text/html": [
       "<div>\n",
       "<style scoped>\n",
       "    .dataframe tbody tr th:only-of-type {\n",
       "        vertical-align: middle;\n",
       "    }\n",
       "\n",
       "    .dataframe tbody tr th {\n",
       "        vertical-align: top;\n",
       "    }\n",
       "\n",
       "    .dataframe thead th {\n",
       "        text-align: right;\n",
       "    }\n",
       "</style>\n",
       "<table border=\"1\" class=\"dataframe\">\n",
       "  <thead>\n",
       "    <tr style=\"text-align: right;\">\n",
       "      <th></th>\n",
       "      <th>accountNumber</th>\n",
       "      <th>customerId</th>\n",
       "      <th>creditLimit</th>\n",
       "      <th>availableMoney</th>\n",
       "      <th>transactionAmount</th>\n",
       "      <th>posEntryMode</th>\n",
       "      <th>posConditionCode</th>\n",
       "      <th>cardCVV</th>\n",
       "      <th>enteredCVV</th>\n",
       "      <th>cardLast4Digits</th>\n",
       "      <th>currentBalance</th>\n",
       "    </tr>\n",
       "  </thead>\n",
       "  <tbody>\n",
       "    <tr>\n",
       "      <td>count</td>\n",
       "      <td>1.211300e+04</td>\n",
       "      <td>1.211300e+04</td>\n",
       "      <td>12113.000000</td>\n",
       "      <td>12113.000000</td>\n",
       "      <td>12113.000000</td>\n",
       "      <td>12113.000000</td>\n",
       "      <td>12113.000000</td>\n",
       "      <td>12113.000000</td>\n",
       "      <td>12113.000000</td>\n",
       "      <td>12113.000000</td>\n",
       "      <td>12113.000000</td>\n",
       "    </tr>\n",
       "    <tr>\n",
       "      <td>mean</td>\n",
       "      <td>5.296615e+08</td>\n",
       "      <td>5.296615e+08</td>\n",
       "      <td>11059.708578</td>\n",
       "      <td>6142.838177</td>\n",
       "      <td>225.208671</td>\n",
       "      <td>10.109304</td>\n",
       "      <td>3.892925</td>\n",
       "      <td>562.461405</td>\n",
       "      <td>562.112111</td>\n",
       "      <td>4781.641625</td>\n",
       "      <td>4916.870400</td>\n",
       "    </tr>\n",
       "    <tr>\n",
       "      <td>std</td>\n",
       "      <td>2.521933e+08</td>\n",
       "      <td>2.521933e+08</td>\n",
       "      <td>11976.012629</td>\n",
       "      <td>8699.367525</td>\n",
       "      <td>189.730771</td>\n",
       "      <td>17.798440</td>\n",
       "      <td>13.241595</td>\n",
       "      <td>260.713298</td>\n",
       "      <td>260.436751</td>\n",
       "      <td>3019.710809</td>\n",
       "      <td>7115.172866</td>\n",
       "    </tr>\n",
       "    <tr>\n",
       "      <td>min</td>\n",
       "      <td>1.007378e+08</td>\n",
       "      <td>1.007378e+08</td>\n",
       "      <td>250.000000</td>\n",
       "      <td>-614.390000</td>\n",
       "      <td>0.000000</td>\n",
       "      <td>2.000000</td>\n",
       "      <td>1.000000</td>\n",
       "      <td>100.000000</td>\n",
       "      <td>0.000000</td>\n",
       "      <td>0.000000</td>\n",
       "      <td>0.000000</td>\n",
       "    </tr>\n",
       "    <tr>\n",
       "      <td>25%</td>\n",
       "      <td>3.269197e+08</td>\n",
       "      <td>3.269197e+08</td>\n",
       "      <td>5000.000000</td>\n",
       "      <td>1083.280000</td>\n",
       "      <td>85.610000</td>\n",
       "      <td>2.000000</td>\n",
       "      <td>1.000000</td>\n",
       "      <td>339.000000</td>\n",
       "      <td>339.000000</td>\n",
       "      <td>2109.000000</td>\n",
       "      <td>823.020000</td>\n",
       "    </tr>\n",
       "    <tr>\n",
       "      <td>50%</td>\n",
       "      <td>4.749347e+08</td>\n",
       "      <td>4.749347e+08</td>\n",
       "      <td>7500.000000</td>\n",
       "      <td>3120.990000</td>\n",
       "      <td>176.870000</td>\n",
       "      <td>9.000000</td>\n",
       "      <td>1.000000</td>\n",
       "      <td>548.000000</td>\n",
       "      <td>548.000000</td>\n",
       "      <td>4648.000000</td>\n",
       "      <td>2744.810000</td>\n",
       "    </tr>\n",
       "    <tr>\n",
       "      <td>75%</td>\n",
       "      <td>7.663105e+08</td>\n",
       "      <td>7.663105e+08</td>\n",
       "      <td>15000.000000</td>\n",
       "      <td>7500.000000</td>\n",
       "      <td>311.730000</td>\n",
       "      <td>9.000000</td>\n",
       "      <td>1.000000</td>\n",
       "      <td>823.000000</td>\n",
       "      <td>818.000000</td>\n",
       "      <td>7473.000000</td>\n",
       "      <td>5651.070000</td>\n",
       "    </tr>\n",
       "    <tr>\n",
       "      <td>max</td>\n",
       "      <td>9.992587e+08</td>\n",
       "      <td>9.992587e+08</td>\n",
       "      <td>50000.000000</td>\n",
       "      <td>50000.000000</td>\n",
       "      <td>1608.350000</td>\n",
       "      <td>90.000000</td>\n",
       "      <td>99.000000</td>\n",
       "      <td>998.000000</td>\n",
       "      <td>998.000000</td>\n",
       "      <td>9996.000000</td>\n",
       "      <td>47473.940000</td>\n",
       "    </tr>\n",
       "  </tbody>\n",
       "</table>\n",
       "</div>"
      ],
      "text/plain": [
       "       accountNumber    customerId   creditLimit  availableMoney  \\\n",
       "count   1.211300e+04  1.211300e+04  12113.000000    12113.000000   \n",
       "mean    5.296615e+08  5.296615e+08  11059.708578     6142.838177   \n",
       "std     2.521933e+08  2.521933e+08  11976.012629     8699.367525   \n",
       "min     1.007378e+08  1.007378e+08    250.000000     -614.390000   \n",
       "25%     3.269197e+08  3.269197e+08   5000.000000     1083.280000   \n",
       "50%     4.749347e+08  4.749347e+08   7500.000000     3120.990000   \n",
       "75%     7.663105e+08  7.663105e+08  15000.000000     7500.000000   \n",
       "max     9.992587e+08  9.992587e+08  50000.000000    50000.000000   \n",
       "\n",
       "       transactionAmount  posEntryMode  posConditionCode       cardCVV  \\\n",
       "count       12113.000000  12113.000000      12113.000000  12113.000000   \n",
       "mean          225.208671     10.109304          3.892925    562.461405   \n",
       "std           189.730771     17.798440         13.241595    260.713298   \n",
       "min             0.000000      2.000000          1.000000    100.000000   \n",
       "25%            85.610000      2.000000          1.000000    339.000000   \n",
       "50%           176.870000      9.000000          1.000000    548.000000   \n",
       "75%           311.730000      9.000000          1.000000    823.000000   \n",
       "max          1608.350000     90.000000         99.000000    998.000000   \n",
       "\n",
       "         enteredCVV  cardLast4Digits  currentBalance  \n",
       "count  12113.000000     12113.000000    12113.000000  \n",
       "mean     562.112111      4781.641625     4916.870400  \n",
       "std      260.436751      3019.710809     7115.172866  \n",
       "min        0.000000         0.000000        0.000000  \n",
       "25%      339.000000      2109.000000      823.020000  \n",
       "50%      548.000000      4648.000000     2744.810000  \n",
       "75%      818.000000      7473.000000     5651.070000  \n",
       "max      998.000000      9996.000000    47473.940000  "
      ]
     },
     "execution_count": 12,
     "metadata": {},
     "output_type": "execute_result"
    }
   ],
   "source": [
    "fraud = df[df[\"isFraud\"] == \"true\"]\n",
    "fraud.describe()"
   ]
  },
  {
   "cell_type": "markdown",
   "metadata": {
    "id": "z5cL11bEpJkK"
   },
   "source": [
    "### ***SUMMARY STATISTICS FOR NORMAL TRANSACTION***"
   ]
  },
  {
   "cell_type": "code",
   "execution_count": 13,
   "metadata": {
    "colab": {
     "base_uri": "https://localhost:8080/",
     "height": 320
    },
    "executionInfo": {
     "elapsed": 159390,
     "status": "ok",
     "timestamp": 1614925327003,
     "user": {
      "displayName": "swathi bodavula",
      "photoUrl": "https://lh3.googleusercontent.com/a-/AOh14GgrWmc5eDEGqJwkDV-2AzAcOv62Q2MuZeBvE0OdPw=s64",
      "userId": "12881957410691203182"
     },
     "user_tz": 360
    },
    "id": "XT4yqAbjpZq4",
    "outputId": "e4ac1e57-e0e3-40d2-a6b6-db2ed7ee855e"
   },
   "outputs": [
    {
     "data": {
      "text/html": [
       "<div>\n",
       "<style scoped>\n",
       "    .dataframe tbody tr th:only-of-type {\n",
       "        vertical-align: middle;\n",
       "    }\n",
       "\n",
       "    .dataframe tbody tr th {\n",
       "        vertical-align: top;\n",
       "    }\n",
       "\n",
       "    .dataframe thead th {\n",
       "        text-align: right;\n",
       "    }\n",
       "</style>\n",
       "<table border=\"1\" class=\"dataframe\">\n",
       "  <thead>\n",
       "    <tr style=\"text-align: right;\">\n",
       "      <th></th>\n",
       "      <th>accountNumber</th>\n",
       "      <th>customerId</th>\n",
       "      <th>creditLimit</th>\n",
       "      <th>availableMoney</th>\n",
       "      <th>transactionAmount</th>\n",
       "      <th>posEntryMode</th>\n",
       "      <th>posConditionCode</th>\n",
       "      <th>cardCVV</th>\n",
       "      <th>enteredCVV</th>\n",
       "      <th>cardLast4Digits</th>\n",
       "      <th>currentBalance</th>\n",
       "    </tr>\n",
       "  </thead>\n",
       "  <tbody>\n",
       "    <tr>\n",
       "      <td>count</td>\n",
       "      <td>7.690940e+05</td>\n",
       "      <td>7.690940e+05</td>\n",
       "      <td>769094.000000</td>\n",
       "      <td>769094.000000</td>\n",
       "      <td>769094.000000</td>\n",
       "      <td>769094.000000</td>\n",
       "      <td>769094.000000</td>\n",
       "      <td>769094.000000</td>\n",
       "      <td>769094.000000</td>\n",
       "      <td>769094.000000</td>\n",
       "      <td>769094.000000</td>\n",
       "    </tr>\n",
       "    <tr>\n",
       "      <td>mean</td>\n",
       "      <td>5.373438e+08</td>\n",
       "      <td>5.373438e+08</td>\n",
       "      <td>10751.979927</td>\n",
       "      <td>6249.615876</td>\n",
       "      <td>135.592143</td>\n",
       "      <td>9.032991</td>\n",
       "      <td>3.261506</td>\n",
       "      <td>544.219322</td>\n",
       "      <td>543.930855</td>\n",
       "      <td>4757.241155</td>\n",
       "      <td>4502.364051</td>\n",
       "    </tr>\n",
       "    <tr>\n",
       "      <td>std</td>\n",
       "      <td>2.554587e+08</td>\n",
       "      <td>2.554587e+08</td>\n",
       "      <td>11626.919752</td>\n",
       "      <td>8878.871615</td>\n",
       "      <td>146.516221</td>\n",
       "      <td>16.755899</td>\n",
       "      <td>9.738056</td>\n",
       "      <td>261.511810</td>\n",
       "      <td>261.545569</td>\n",
       "      <td>2996.356506</td>\n",
       "      <td>6445.093762</td>\n",
       "    </tr>\n",
       "    <tr>\n",
       "      <td>min</td>\n",
       "      <td>1.000881e+08</td>\n",
       "      <td>1.000881e+08</td>\n",
       "      <td>250.000000</td>\n",
       "      <td>-1005.630000</td>\n",
       "      <td>0.000000</td>\n",
       "      <td>2.000000</td>\n",
       "      <td>1.000000</td>\n",
       "      <td>100.000000</td>\n",
       "      <td>0.000000</td>\n",
       "      <td>0.000000</td>\n",
       "      <td>0.000000</td>\n",
       "    </tr>\n",
       "    <tr>\n",
       "      <td>25%</td>\n",
       "      <td>3.301333e+08</td>\n",
       "      <td>3.301333e+08</td>\n",
       "      <td>5000.000000</td>\n",
       "      <td>1077.160000</td>\n",
       "      <td>33.200000</td>\n",
       "      <td>5.000000</td>\n",
       "      <td>1.000000</td>\n",
       "      <td>309.000000</td>\n",
       "      <td>309.000000</td>\n",
       "      <td>2178.000000</td>\n",
       "      <td>688.222500</td>\n",
       "    </tr>\n",
       "    <tr>\n",
       "      <td>50%</td>\n",
       "      <td>5.079073e+08</td>\n",
       "      <td>5.079073e+08</td>\n",
       "      <td>7500.000000</td>\n",
       "      <td>3184.790000</td>\n",
       "      <td>86.780000</td>\n",
       "      <td>5.000000</td>\n",
       "      <td>1.000000</td>\n",
       "      <td>535.000000</td>\n",
       "      <td>535.000000</td>\n",
       "      <td>4733.000000</td>\n",
       "      <td>2447.775000</td>\n",
       "    </tr>\n",
       "    <tr>\n",
       "      <td>75%</td>\n",
       "      <td>7.676200e+08</td>\n",
       "      <td>7.676200e+08</td>\n",
       "      <td>15000.000000</td>\n",
       "      <td>7500.000000</td>\n",
       "      <td>189.460000</td>\n",
       "      <td>9.000000</td>\n",
       "      <td>1.000000</td>\n",
       "      <td>785.000000</td>\n",
       "      <td>785.000000</td>\n",
       "      <td>7338.000000</td>\n",
       "      <td>5286.820000</td>\n",
       "    </tr>\n",
       "    <tr>\n",
       "      <td>max</td>\n",
       "      <td>9.993896e+08</td>\n",
       "      <td>9.993896e+08</td>\n",
       "      <td>50000.000000</td>\n",
       "      <td>50000.000000</td>\n",
       "      <td>2011.540000</td>\n",
       "      <td>90.000000</td>\n",
       "      <td>99.000000</td>\n",
       "      <td>998.000000</td>\n",
       "      <td>998.000000</td>\n",
       "      <td>9998.000000</td>\n",
       "      <td>47498.810000</td>\n",
       "    </tr>\n",
       "  </tbody>\n",
       "</table>\n",
       "</div>"
      ],
      "text/plain": [
       "       accountNumber    customerId    creditLimit  availableMoney  \\\n",
       "count   7.690940e+05  7.690940e+05  769094.000000   769094.000000   \n",
       "mean    5.373438e+08  5.373438e+08   10751.979927     6249.615876   \n",
       "std     2.554587e+08  2.554587e+08   11626.919752     8878.871615   \n",
       "min     1.000881e+08  1.000881e+08     250.000000    -1005.630000   \n",
       "25%     3.301333e+08  3.301333e+08    5000.000000     1077.160000   \n",
       "50%     5.079073e+08  5.079073e+08    7500.000000     3184.790000   \n",
       "75%     7.676200e+08  7.676200e+08   15000.000000     7500.000000   \n",
       "max     9.993896e+08  9.993896e+08   50000.000000    50000.000000   \n",
       "\n",
       "       transactionAmount   posEntryMode  posConditionCode        cardCVV  \\\n",
       "count      769094.000000  769094.000000     769094.000000  769094.000000   \n",
       "mean          135.592143       9.032991          3.261506     544.219322   \n",
       "std           146.516221      16.755899          9.738056     261.511810   \n",
       "min             0.000000       2.000000          1.000000     100.000000   \n",
       "25%            33.200000       5.000000          1.000000     309.000000   \n",
       "50%            86.780000       5.000000          1.000000     535.000000   \n",
       "75%           189.460000       9.000000          1.000000     785.000000   \n",
       "max          2011.540000      90.000000         99.000000     998.000000   \n",
       "\n",
       "          enteredCVV  cardLast4Digits  currentBalance  \n",
       "count  769094.000000    769094.000000   769094.000000  \n",
       "mean      543.930855      4757.241155     4502.364051  \n",
       "std       261.545569      2996.356506     6445.093762  \n",
       "min         0.000000         0.000000        0.000000  \n",
       "25%       309.000000      2178.000000      688.222500  \n",
       "50%       535.000000      4733.000000     2447.775000  \n",
       "75%       785.000000      7338.000000     5286.820000  \n",
       "max       998.000000      9998.000000    47498.810000  "
      ]
     },
     "execution_count": 13,
     "metadata": {},
     "output_type": "execute_result"
    }
   ],
   "source": [
    "normal = df[df[\"isFraud\"] == \"false\"]\n",
    "normal.describe()"
   ]
  },
  {
   "cell_type": "code",
   "execution_count": 14,
   "metadata": {
    "colab": {
     "base_uri": "https://localhost:8080/"
    },
    "executionInfo": {
     "elapsed": 159517,
     "status": "ok",
     "timestamp": 1614925327136,
     "user": {
      "displayName": "swathi bodavula",
      "photoUrl": "https://lh3.googleusercontent.com/a-/AOh14GgrWmc5eDEGqJwkDV-2AzAcOv62Q2MuZeBvE0OdPw=s64",
      "userId": "12881957410691203182"
     },
     "user_tz": 360
    },
    "id": "cJLEy-EG5HOY",
    "outputId": "245a4580-6eac-47c4-fa4b-c18889c28b3a"
   },
   "outputs": [
    {
     "name": "stdout",
     "output_type": "stream",
     "text": [
      "<class 'pandas.core.frame.DataFrame'>\n",
      "Int64Index: 781207 entries, 0 to 786362\n",
      "Data columns (total 23 columns):\n",
      "accountNumber               781207 non-null int32\n",
      "customerId                  781207 non-null int32\n",
      "creditLimit                 781207 non-null float64\n",
      "availableMoney              781207 non-null float64\n",
      "transactionDateTime         781207 non-null object\n",
      "transactionAmount           781207 non-null float64\n",
      "merchantName                781207 non-null object\n",
      "acqCountry                  781207 non-null object\n",
      "merchantCountryCode         781207 non-null object\n",
      "posEntryMode                781207 non-null int32\n",
      "posConditionCode            781207 non-null int32\n",
      "merchantCategoryCode        781207 non-null object\n",
      "currentExpDate              781207 non-null object\n",
      "accountOpenDate             781207 non-null object\n",
      "dateOfLastAddressChange     781207 non-null object\n",
      "cardCVV                     781207 non-null int32\n",
      "enteredCVV                  781207 non-null int32\n",
      "cardLast4Digits             781207 non-null int32\n",
      "transactionType             781207 non-null object\n",
      "currentBalance              781207 non-null float64\n",
      "cardPresent                 781207 non-null object\n",
      "expirationDateKeyInMatch    781207 non-null object\n",
      "isFraud                     781207 non-null object\n",
      "dtypes: float64(4), int32(7), object(12)\n",
      "memory usage: 122.2+ MB\n"
     ]
    }
   ],
   "source": [
    "df.info()"
   ]
  },
  {
   "cell_type": "markdown",
   "metadata": {
    "id": "9R0CDhT5ZIDm"
   },
   "source": [
    "### ***Plot a histogram of the processed amounts of each transaction, the transactionAmount column.***"
   ]
  },
  {
   "cell_type": "markdown",
   "metadata": {
    "id": "BTn_nC-SE6dE"
   },
   "source": [
    "* **Most of the data is on the left side of the histogtam but few values are to the right. So, the data is right skewed.**\n",
    "* **Further one more observation can be understood form the histogram, that the transaction amount spent by the people, most of them fall under the category 0 to  250 dollars.**\n",
    "\n",
    "\n",
    "\n",
    "\n"
   ]
  },
  {
   "cell_type": "code",
   "execution_count": 15,
   "metadata": {
    "colab": {
     "base_uri": "https://localhost:8080/",
     "height": 279
    },
    "executionInfo": {
     "elapsed": 161015,
     "status": "ok",
     "timestamp": 1614925328642,
     "user": {
      "displayName": "swathi bodavula",
      "photoUrl": "https://lh3.googleusercontent.com/a-/AOh14GgrWmc5eDEGqJwkDV-2AzAcOv62Q2MuZeBvE0OdPw=s64",
      "userId": "12881957410691203182"
     },
     "user_tz": 360
    },
    "id": "KdBJBNfWfuHp",
    "outputId": "7449d8b1-153a-41f2-cc87-1386c578ee1a"
   },
   "outputs": [
    {
     "data": {
      "image/png": "[encoded data removed]",
      "text/plain": [
       "<Figure size 432x288 with 1 Axes>"
      ]
     },
     "metadata": {
      "needs_background": "light"
     },
     "output_type": "display_data"
    }
   ],
   "source": [
    "df[\"transactionAmount\"].plot.hist()\n",
    "plt.xlabel(\"transactionAmount\")\n",
    "plt.show()"
   ]
  },
  {
   "cell_type": "markdown",
   "metadata": {
    "id": "BJXhaW0Bxs6o"
   },
   "source": [
    "## ***Can you programmatically identify reversed and multi-swipe transactions?***"
   ]
  },
  {
   "cell_type": "code",
   "execution_count": 16,
   "metadata": {
    "colab": {
     "base_uri": "https://localhost:8080/"
    },
    "executionInfo": {
     "elapsed": 161134,
     "status": "ok",
     "timestamp": 1614925328766,
     "user": {
      "displayName": "swathi bodavula",
      "photoUrl": "https://lh3.googleusercontent.com/a-/AOh14GgrWmc5eDEGqJwkDV-2AzAcOv62Q2MuZeBvE0OdPw=s64",
      "userId": "12881957410691203182"
     },
     "user_tz": 360
    },
    "id": "TGiGbRkK5McM",
    "outputId": "0044798e-7975-4d1f-b26e-c7f770420ade"
   },
   "outputs": [
    {
     "data": {
      "text/plain": [
       "PURCHASE                740944\n",
       "REVERSAL                 20187\n",
       "ADDRESS_VERIFICATION     20076\n",
       "Name: transactionType, dtype: int64"
      ]
     },
     "execution_count": 16,
     "metadata": {},
     "output_type": "execute_result"
    }
   ],
   "source": [
    "# Number of reversed transactions.\n",
    "df[\"transactionType\"].value_counts()"
   ]
  },
  {
   "cell_type": "markdown",
   "metadata": {
    "id": "FMf1oFx10b8Q"
   },
   "source": [
    "## ***What total number of transactions and total dollar amount do you estimate for the reversed transactions?***\n",
    "\n",
    "\n",
    "*   Total number of reversed transactions = 20187.\n",
    "*   Total dollar amount for the reversed transactions = 2805135.29.\n",
    "\n",
    "\n",
    "\n"
   ]
  },
  {
   "cell_type": "code",
   "execution_count": 17,
   "metadata": {
    "colab": {
     "base_uri": "https://localhost:8080/"
    },
    "executionInfo": {
     "elapsed": 161130,
     "status": "ok",
     "timestamp": 1614925328771,
     "user": {
      "displayName": "swathi bodavula",
      "photoUrl": "https://lh3.googleusercontent.com/a-/AOh14GgrWmc5eDEGqJwkDV-2AzAcOv62Q2MuZeBvE0OdPw=s64",
      "userId": "12881957410691203182"
     },
     "user_tz": 360
    },
    "id": "Za2ncCpGGRdB",
    "outputId": "f2bbe17f-a662-4b41-ea9d-7c2a53c85a60"
   },
   "outputs": [
    {
     "data": {
      "text/plain": [
       "2805135.29"
      ]
     },
     "execution_count": 17,
     "metadata": {},
     "output_type": "execute_result"
    }
   ],
   "source": [
    "# Total dollar amount for Reversed transaction \n",
    "df[df[\"transactionType\"] == 'REVERSAL' ][\"transactionAmount\"].sum()"
   ]
  },
  {
   "cell_type": "markdown",
   "metadata": {
    "id": "9oAQf3iUnOWH"
   },
   "source": [
    "Converted **DATETIME  \"object\"** datatype columns into **datetime datatype** for further analysis"
   ]
  },
  {
   "cell_type": "code",
   "execution_count": 18,
   "metadata": {
    "executionInfo": {
     "elapsed": 161892,
     "status": "ok",
     "timestamp": 1614925329538,
     "user": {
      "displayName": "swathi bodavula",
      "photoUrl": "https://lh3.googleusercontent.com/a-/AOh14GgrWmc5eDEGqJwkDV-2AzAcOv62Q2MuZeBvE0OdPw=s64",
      "userId": "12881957410691203182"
     },
     "user_tz": 360
    },
    "id": "WNcv_ycXXBOT"
   },
   "outputs": [],
   "source": [
    "df[\"transactionDateTime\"] = pd.to_datetime(df[\"transactionDateTime\"], format = '%Y-%m-%dT%H:%M:%S')\n",
    "df[[\"accountOpenDate\",\"dateOfLastAddressChange\"]] = df[[\"accountOpenDate\",\"dateOfLastAddressChange\"]].apply(lambda x: pd.to_datetime(x,format = '%Y-%m-%d'))"
   ]
  },
  {
   "cell_type": "markdown",
   "metadata": {
    "id": "6Yrqmd7ZkulV"
   },
   "source": [
    "**Parsed datetime columns into respective year, month, day, week columns. So, we can feed the parsed data to the Machine Learning algorithms to observe patterns like date of address change is closer to the transaction date, which might be helpful to detect fradulent activites.**"
   ]
  },
  {
   "cell_type": "code",
   "execution_count": 19,
   "metadata": {
    "executionInfo": {
     "elapsed": 163221,
     "status": "ok",
     "timestamp": 1614925330876,
     "user": {
      "displayName": "swathi bodavula",
      "photoUrl": "https://lh3.googleusercontent.com/a-/AOh14GgrWmc5eDEGqJwkDV-2AzAcOv62Q2MuZeBvE0OdPw=s64",
      "userId": "12881957410691203182"
     },
     "user_tz": 360
    },
    "id": "j_-cT5hNYe7_"
   },
   "outputs": [],
   "source": [
    "df[\"accountOpen_Year\"] = df[\"accountOpenDate\"].dt.year\n",
    "df[\"accountOpen_Month\"] = df[\"accountOpenDate\"].dt.month\n",
    "df[\"accountOpen_Day\"] = df[\"accountOpenDate\"].dt.day\n",
    "df[\"accountOpen_Week\"] = df[\"accountOpenDate\"].dt.dayofweek\n",
    "\n",
    "df[\"dateOfLastAddressChange_Year\"] = df[\"dateOfLastAddressChange\"].dt.year\n",
    "df[\"dateOfLastAddressChange_Month\"] = df[\"dateOfLastAddressChange\"].dt.month\n",
    "df[\"dateOfLastAddressChange_Day\"] = df[\"dateOfLastAddressChange\"].dt.day\n",
    "df[\"dateOfLastAddressChange_Week\"] = df[\"dateOfLastAddressChange\"].dt.dayofweek\n",
    "\n",
    "df[\"transaction_Year\"] = df[\"transactionDateTime\"].dt.year\n",
    "df[\"transaction_Month\"] = df[\"transactionDateTime\"].dt.month\n",
    "df[\"transaction_Day\"] = df[\"transactionDateTime\"].dt.day\n",
    "df[\"transaction_Week\"] = df[\"transactionDateTime\"].dt.dayofweek"
   ]
  },
  {
   "cell_type": "markdown",
   "metadata": {
    "id": "HklEzqF2fZ1F"
   },
   "source": [
    "# Multi-swipe Transactions\n",
    "\n",
    "**In general, vendor websites take 15-30 seconds in normal internet speed to complete a credit card transaction. So, I have considered the short time span of 1 minute to charge the customer multiple times accidently by a vendor.**\n",
    "\n",
    "*   **Total number of Multi-swipe transactions = 4470**\n",
    "*   **Total dollar amount for the Multi-swipe transactions = 658940.34**\n",
    "\n",
    "\n"
   ]
  },
  {
   "cell_type": "code",
   "execution_count": 20,
   "metadata": {
    "colab": {
     "base_uri": "https://localhost:8080/"
    },
    "executionInfo": {
     "elapsed": 304350,
     "status": "ok",
     "timestamp": 1614925472013,
     "user": {
      "displayName": "swathi bodavula",
      "photoUrl": "https://lh3.googleusercontent.com/a-/AOh14GgrWmc5eDEGqJwkDV-2AzAcOv62Q2MuZeBvE0OdPw=s64",
      "userId": "12881957410691203182"
     },
     "user_tz": 360
    },
    "id": "2MS92rAwXn3R",
    "outputId": "87921edb-c67a-4013-f8fa-09f036408a36"
   },
   "outputs": [
    {
     "data": {
      "text/plain": [
       "0    776737\n",
       "1      4470\n",
       "Name: duplicated, dtype: int64"
      ]
     },
     "execution_count": 20,
     "metadata": {},
     "output_type": "execute_result"
    }
   ],
   "source": [
    "min_diff = pd.Timedelta(minutes = 1) \n",
    "df[\"duplicated\"] = df.sort_values('transactionDateTime').groupby(['transactionAmount','customerId']).transactionDateTime.diff().abs().le(min_diff).astype(int)\n",
    "df[\"duplicated\"].value_counts()"
   ]
  },
  {
   "cell_type": "code",
   "execution_count": 21,
   "metadata": {
    "colab": {
     "base_uri": "https://localhost:8080/"
    },
    "executionInfo": {
     "elapsed": 304594,
     "status": "ok",
     "timestamp": 1614925472269,
     "user": {
      "displayName": "swathi bodavula",
      "photoUrl": "https://lh3.googleusercontent.com/a-/AOh14GgrWmc5eDEGqJwkDV-2AzAcOv62Q2MuZeBvE0OdPw=s64",
      "userId": "12881957410691203182"
     },
     "user_tz": 360
    },
    "id": "QdzqtAgv3gnE",
    "outputId": "81056832-103d-417d-cfbd-4df46fe834cd"
   },
   "outputs": [
    {
     "data": {
      "text/plain": [
       "658940.34"
      ]
     },
     "execution_count": 21,
     "metadata": {},
     "output_type": "execute_result"
    }
   ],
   "source": [
    "df[df[\"duplicated\"] == 1][\"transactionAmount\"].sum()"
   ]
  },
  {
   "cell_type": "markdown",
   "metadata": {
    "id": "VK0nDcs1my4P"
   },
   "source": [
    "## **QUESTION 4**"
   ]
  },
  {
   "cell_type": "markdown",
   "metadata": {
    "id": "5kGTVaCgnj7j"
   },
   "source": [
    "**Predictive Model**\n",
    "\n",
    "\n",
    "*   The features I felt important are cardCVV, enteredCVV, expirationDateKeyInMatch, currentBalance, availableMoney, posConditionCode (transaction conditions at the point of Sale or Service), posEntryMode(how the transaction was captured like card has been inserted or swiped), merchantCategoryCode (describes vendors primary business activites).\n",
    "*   The other features I considered are transactionDateTime, dateOfLastAddressChange, AccountOpenDate. Because there might be some correlation among these features. The date of Address change might be related to the transaction date.\n",
    "*   I have converted categorical variables into numeric variables by using LabelEncoding.\n",
    "*   I have implemented RandomforestClassifier. The reason I considered RandomForestClassifier is it contains multiple decision trees, and each tree is independent of other. Each tree checks different features or conditions.\n",
    "*   The other important quality of random forest classifier is it provides a great tool to determine the feature importance. It computes the score automatically for each feature everytime to make a decision.\n",
    "*   To evaulate the model I have split the dataset into training data and test data (80 : 20).\n",
    "\n",
    "\n",
    "\n"
   ]
  },
  {
   "cell_type": "code",
   "execution_count": 22,
   "metadata": {
    "colab": {
     "base_uri": "https://localhost:8080/",
     "height": 243
    },
    "executionInfo": {
     "elapsed": 305599,
     "status": "ok",
     "timestamp": 1614925473288,
     "user": {
      "displayName": "swathi bodavula",
      "photoUrl": "https://lh3.googleusercontent.com/a-/AOh14GgrWmc5eDEGqJwkDV-2AzAcOv62Q2MuZeBvE0OdPw=s64",
      "userId": "12881957410691203182"
     },
     "user_tz": 360
    },
    "id": "avNqRHG_KvzI",
    "outputId": "d80d8f58-8862-4595-bfc6-2394f5ad2f60"
   },
   "outputs": [
    {
     "data": {
      "text/html": [
       "<div>\n",
       "<style scoped>\n",
       "    .dataframe tbody tr th:only-of-type {\n",
       "        vertical-align: middle;\n",
       "    }\n",
       "\n",
       "    .dataframe tbody tr th {\n",
       "        vertical-align: top;\n",
       "    }\n",
       "\n",
       "    .dataframe thead th {\n",
       "        text-align: right;\n",
       "    }\n",
       "</style>\n",
       "<table border=\"1\" class=\"dataframe\">\n",
       "  <thead>\n",
       "    <tr style=\"text-align: right;\">\n",
       "      <th></th>\n",
       "      <th>accountNumber</th>\n",
       "      <th>customerId</th>\n",
       "      <th>creditLimit</th>\n",
       "      <th>availableMoney</th>\n",
       "      <th>transactionDateTime</th>\n",
       "      <th>transactionAmount</th>\n",
       "      <th>merchantName</th>\n",
       "      <th>acqCountry</th>\n",
       "      <th>merchantCountryCode</th>\n",
       "      <th>posEntryMode</th>\n",
       "      <th>...</th>\n",
       "      <th>accountOpen_Week</th>\n",
       "      <th>dateOfLastAddressChange_Year</th>\n",
       "      <th>dateOfLastAddressChange_Month</th>\n",
       "      <th>dateOfLastAddressChange_Day</th>\n",
       "      <th>dateOfLastAddressChange_Week</th>\n",
       "      <th>transaction_Year</th>\n",
       "      <th>transaction_Month</th>\n",
       "      <th>transaction_Day</th>\n",
       "      <th>transaction_Week</th>\n",
       "      <th>duplicated</th>\n",
       "    </tr>\n",
       "  </thead>\n",
       "  <tbody>\n",
       "    <tr>\n",
       "      <td>0</td>\n",
       "      <td>737265056</td>\n",
       "      <td>737265056</td>\n",
       "      <td>5000.0</td>\n",
       "      <td>5000.0</td>\n",
       "      <td>2016-08-13 14:27:32</td>\n",
       "      <td>98.55</td>\n",
       "      <td>\"Uber\"</td>\n",
       "      <td>\"US\"</td>\n",
       "      <td>\"US\"</td>\n",
       "      <td>2</td>\n",
       "      <td>...</td>\n",
       "      <td>5</td>\n",
       "      <td>2015</td>\n",
       "      <td>3</td>\n",
       "      <td>14</td>\n",
       "      <td>5</td>\n",
       "      <td>2016</td>\n",
       "      <td>8</td>\n",
       "      <td>13</td>\n",
       "      <td>5</td>\n",
       "      <td>0</td>\n",
       "    </tr>\n",
       "    <tr>\n",
       "      <td>1</td>\n",
       "      <td>737265056</td>\n",
       "      <td>737265056</td>\n",
       "      <td>5000.0</td>\n",
       "      <td>5000.0</td>\n",
       "      <td>2016-10-11 05:05:54</td>\n",
       "      <td>74.51</td>\n",
       "      <td>\"AMC #191138\"</td>\n",
       "      <td>\"US\"</td>\n",
       "      <td>\"US\"</td>\n",
       "      <td>9</td>\n",
       "      <td>...</td>\n",
       "      <td>5</td>\n",
       "      <td>2015</td>\n",
       "      <td>3</td>\n",
       "      <td>14</td>\n",
       "      <td>5</td>\n",
       "      <td>2016</td>\n",
       "      <td>10</td>\n",
       "      <td>11</td>\n",
       "      <td>1</td>\n",
       "      <td>0</td>\n",
       "    </tr>\n",
       "    <tr>\n",
       "      <td>2</td>\n",
       "      <td>737265056</td>\n",
       "      <td>737265056</td>\n",
       "      <td>5000.0</td>\n",
       "      <td>5000.0</td>\n",
       "      <td>2016-11-08 09:18:39</td>\n",
       "      <td>7.47</td>\n",
       "      <td>\"Play Store\"</td>\n",
       "      <td>\"US\"</td>\n",
       "      <td>\"US\"</td>\n",
       "      <td>9</td>\n",
       "      <td>...</td>\n",
       "      <td>5</td>\n",
       "      <td>2015</td>\n",
       "      <td>3</td>\n",
       "      <td>14</td>\n",
       "      <td>5</td>\n",
       "      <td>2016</td>\n",
       "      <td>11</td>\n",
       "      <td>8</td>\n",
       "      <td>1</td>\n",
       "      <td>0</td>\n",
       "    </tr>\n",
       "    <tr>\n",
       "      <td>3</td>\n",
       "      <td>737265056</td>\n",
       "      <td>737265056</td>\n",
       "      <td>5000.0</td>\n",
       "      <td>5000.0</td>\n",
       "      <td>2016-12-10 02:14:50</td>\n",
       "      <td>7.47</td>\n",
       "      <td>\"Play Store\"</td>\n",
       "      <td>\"US\"</td>\n",
       "      <td>\"US\"</td>\n",
       "      <td>9</td>\n",
       "      <td>...</td>\n",
       "      <td>5</td>\n",
       "      <td>2015</td>\n",
       "      <td>3</td>\n",
       "      <td>14</td>\n",
       "      <td>5</td>\n",
       "      <td>2016</td>\n",
       "      <td>12</td>\n",
       "      <td>10</td>\n",
       "      <td>5</td>\n",
       "      <td>0</td>\n",
       "    </tr>\n",
       "    <tr>\n",
       "      <td>4</td>\n",
       "      <td>830329091</td>\n",
       "      <td>830329091</td>\n",
       "      <td>5000.0</td>\n",
       "      <td>5000.0</td>\n",
       "      <td>2016-03-24 21:04:46</td>\n",
       "      <td>71.18</td>\n",
       "      <td>\"Tim Hortons #947751\"</td>\n",
       "      <td>\"US\"</td>\n",
       "      <td>\"US\"</td>\n",
       "      <td>2</td>\n",
       "      <td>...</td>\n",
       "      <td>3</td>\n",
       "      <td>2015</td>\n",
       "      <td>8</td>\n",
       "      <td>6</td>\n",
       "      <td>3</td>\n",
       "      <td>2016</td>\n",
       "      <td>3</td>\n",
       "      <td>24</td>\n",
       "      <td>3</td>\n",
       "      <td>0</td>\n",
       "    </tr>\n",
       "  </tbody>\n",
       "</table>\n",
       "<p>5 rows × 36 columns</p>\n",
       "</div>"
      ],
      "text/plain": [
       "   accountNumber  customerId  creditLimit  availableMoney transactionDateTime  \\\n",
       "0      737265056   737265056       5000.0          5000.0 2016-08-13 14:27:32   \n",
       "1      737265056   737265056       5000.0          5000.0 2016-10-11 05:05:54   \n",
       "2      737265056   737265056       5000.0          5000.0 2016-11-08 09:18:39   \n",
       "3      737265056   737265056       5000.0          5000.0 2016-12-10 02:14:50   \n",
       "4      830329091   830329091       5000.0          5000.0 2016-03-24 21:04:46   \n",
       "\n",
       "   transactionAmount           merchantName acqCountry merchantCountryCode  \\\n",
       "0              98.55                 \"Uber\"       \"US\"                \"US\"   \n",
       "1              74.51          \"AMC #191138\"       \"US\"                \"US\"   \n",
       "2               7.47           \"Play Store\"       \"US\"                \"US\"   \n",
       "3               7.47           \"Play Store\"       \"US\"                \"US\"   \n",
       "4              71.18  \"Tim Hortons #947751\"       \"US\"                \"US\"   \n",
       "\n",
       "   posEntryMode  ...  accountOpen_Week  dateOfLastAddressChange_Year  \\\n",
       "0             2  ...                 5                          2015   \n",
       "1             9  ...                 5                          2015   \n",
       "2             9  ...                 5                          2015   \n",
       "3             9  ...                 5                          2015   \n",
       "4             2  ...                 3                          2015   \n",
       "\n",
       "  dateOfLastAddressChange_Month dateOfLastAddressChange_Day  \\\n",
       "0                             3                          14   \n",
       "1                             3                          14   \n",
       "2                             3                          14   \n",
       "3                             3                          14   \n",
       "4                             8                           6   \n",
       "\n",
       "  dateOfLastAddressChange_Week  transaction_Year  transaction_Month  \\\n",
       "0                            5              2016                  8   \n",
       "1                            5              2016                 10   \n",
       "2                            5              2016                 11   \n",
       "3                            5              2016                 12   \n",
       "4                            3              2016                  3   \n",
       "\n",
       "   transaction_Day  transaction_Week  duplicated  \n",
       "0               13                 5           0  \n",
       "1               11                 1           0  \n",
       "2                8                 1           0  \n",
       "3               10                 5           0  \n",
       "4               24                 3           0  \n",
       "\n",
       "[5 rows x 36 columns]"
      ]
     },
     "execution_count": 22,
     "metadata": {},
     "output_type": "execute_result"
    }
   ],
   "source": [
    "# converting categorical variables into numerical variables using label encoding.\n",
    "le = preprocessing.LabelEncoder()\n",
    "df[[\"transactionType\",\"cardPresent\",\"merchantCategoryCode\",\"expirationDateKeyInMatch\"]]=df[[\"transactionType\",\"cardPresent\",\"merchantCategoryCode\",\"expirationDateKeyInMatch\"]].apply(le.fit_transform)\n",
    "df.head()"
   ]
  },
  {
   "cell_type": "code",
   "execution_count": 23,
   "metadata": {
    "executionInfo": {
     "elapsed": 305593,
     "status": "ok",
     "timestamp": 1614925473291,
     "user": {
      "displayName": "swathi bodavula",
      "photoUrl": "https://lh3.googleusercontent.com/a-/AOh14GgrWmc5eDEGqJwkDV-2AzAcOv62Q2MuZeBvE0OdPw=s64",
      "userId": "12881957410691203182"
     },
     "user_tz": 360
    },
    "id": "ryMU3eBP6fPV"
   },
   "outputs": [],
   "source": [
    "X = df[[\"accountNumber\", \"creditLimit\",\"availableMoney\",\"transactionAmount\",\"currentBalance\",\"posEntryMode\",\"posConditionCode\",\"transactionType\",\n",
    "       \"accountOpen_Year\",\"accountOpen_Month\",\"accountOpen_Day\",\"accountOpen_Week\",\"dateOfLastAddressChange_Year\",\"dateOfLastAddressChange_Month\",\n",
    "       \"dateOfLastAddressChange_Day\",\"dateOfLastAddressChange_Week\",\"transaction_Year\",\"transaction_Month\",\"transaction_Day\",\"transaction_Week\",\n",
    "       \"cardPresent\",\"merchantCategoryCode\",\"expirationDateKeyInMatch\",\"cardCVV\",\"enteredCVV\",\"cardLast4Digits\"]]"
   ]
  },
  {
   "cell_type": "markdown",
   "metadata": {
    "id": "40WwzbYb1Zcg"
   },
   "source": [
    " **Replaced \"isFraud --> true --> 1**\n",
    "                       **false --> 0** \n",
    "           "
   ]
  },
  {
   "cell_type": "code",
   "execution_count": 24,
   "metadata": {
    "colab": {
     "base_uri": "https://localhost:8080/"
    },
    "executionInfo": {
     "elapsed": 306151,
     "status": "ok",
     "timestamp": 1614925473853,
     "user": {
      "displayName": "swathi bodavula",
      "photoUrl": "https://lh3.googleusercontent.com/a-/AOh14GgrWmc5eDEGqJwkDV-2AzAcOv62Q2MuZeBvE0OdPw=s64",
      "userId": "12881957410691203182"
     },
     "user_tz": 360
    },
    "id": "4gUd7oRQbsnq",
    "outputId": "1e9a2768-73e0-4d69-d097-89911e1c3b3a"
   },
   "outputs": [
    {
     "data": {
      "text/plain": [
       "0    0\n",
       "1    0\n",
       "2    0\n",
       "3    0\n",
       "4    0\n",
       "Name: isFraud, dtype: int64"
      ]
     },
     "execution_count": 24,
     "metadata": {},
     "output_type": "execute_result"
    }
   ],
   "source": [
    "df[\"isFraud\"].replace({\"true\":1,\"false\":0},inplace = True)\n",
    "y = df[\"isFraud\"]\n",
    "y.head()"
   ]
  },
  {
   "cell_type": "code",
   "execution_count": 25,
   "metadata": {
    "executionInfo": {
     "elapsed": 306387,
     "status": "ok",
     "timestamp": 1614925474095,
     "user": {
      "displayName": "swathi bodavula",
      "photoUrl": "https://lh3.googleusercontent.com/a-/AOh14GgrWmc5eDEGqJwkDV-2AzAcOv62Q2MuZeBvE0OdPw=s64",
      "userId": "12881957410691203182"
     },
     "user_tz": 360
    },
    "id": "lZCv5zr7gzb3"
   },
   "outputs": [],
   "source": [
    "# splitting the dataset\n",
    "X_train, X_test, Y_train, Y_test = train_test_split(X, y, test_size = 0.2, random_state = 42)"
   ]
  },
  {
   "cell_type": "markdown",
   "metadata": {
    "id": "XUN4DDI82Y8Q"
   },
   "source": [
    "**RANDOM FOREST CLASSIFIER**"
   ]
  },
  {
   "cell_type": "code",
   "execution_count": 26,
   "metadata": {
    "executionInfo": {
     "elapsed": 601807,
     "status": "ok",
     "timestamp": 1614925769516,
     "user": {
      "displayName": "swathi bodavula",
      "photoUrl": "https://lh3.googleusercontent.com/a-/AOh14GgrWmc5eDEGqJwkDV-2AzAcOv62Q2MuZeBvE0OdPw=s64",
      "userId": "12881957410691203182"
     },
     "user_tz": 360
    },
    "id": "hh1HxdygHGMV"
   },
   "outputs": [],
   "source": [
    "from sklearn.ensemble import RandomForestClassifier\n",
    "rfc = RandomForestClassifier()\n",
    "rfc.fit(X_train,Y_train)\n",
    "y_pred = rfc.predict(X_test)"
   ]
  },
  {
   "cell_type": "markdown",
   "metadata": {
    "id": "ZvBUkz2s9ZTZ"
   },
   "source": [
    "*  Though the accuracy and precison of Random Forest Classifier are better, the recall is very low. The reason might be because of highly imbalanced dataset. For every 1000 normal transactions we have 15 fraud transactions.\n",
    "*  So to balance the dataset I have used SMOTE technique."
   ]
  },
  {
   "cell_type": "code",
   "execution_count": 27,
   "metadata": {
    "colab": {
     "base_uri": "https://localhost:8080/"
    },
    "executionInfo": {
     "elapsed": 601817,
     "status": "ok",
     "timestamp": 1614925769532,
     "user": {
      "displayName": "swathi bodavula",
      "photoUrl": "https://lh3.googleusercontent.com/a-/AOh14GgrWmc5eDEGqJwkDV-2AzAcOv62Q2MuZeBvE0OdPw=s64",
      "userId": "12881957410691203182"
     },
     "user_tz": 360
    },
    "id": "8u2pzyoxKBpu",
    "outputId": "73451305-775a-4b7e-b1ae-05c82b092b2c"
   },
   "outputs": [
    {
     "name": "stdout",
     "output_type": "stream",
     "text": [
      "The accuracy is 0.9849656302402683\n",
      "The precision is 0.6875\n",
      "The recall is 0.027672955974842768\n",
      "The F1-Score is 0.053204353083434096\n"
     ]
    }
   ],
   "source": [
    "# accuarcy\n",
    "accuracy = accuracy_score(Y_test,y_pred)\n",
    "print(\"The accuracy is {}\".format(accuracy))\n",
    "\n",
    "# precision\n",
    "precision = precision_score(Y_test,y_pred)\n",
    "print(\"The precision is {}\".format(precision))\n",
    "\n",
    "# recall\n",
    "recall = recall_score(Y_test,y_pred)\n",
    "print(\"The recall is {}\".format(recall))\n",
    "\n",
    "# f1_score\n",
    "F1_score = f1_score(Y_test,y_pred)\n",
    "print(\"The F1-Score is {}\".format(F1_score))"
   ]
  },
  {
   "cell_type": "code",
   "execution_count": 28,
   "metadata": {
    "colab": {
     "base_uri": "https://localhost:8080/"
    },
    "executionInfo": {
     "elapsed": 601816,
     "status": "ok",
     "timestamp": 1614925769535,
     "user": {
      "displayName": "swathi bodavula",
      "photoUrl": "https://lh3.googleusercontent.com/a-/AOh14GgrWmc5eDEGqJwkDV-2AzAcOv62Q2MuZeBvE0OdPw=s64",
      "userId": "12881957410691203182"
     },
     "user_tz": 360
    },
    "id": "R75yrqDogH_H",
    "outputId": "27ba6168-97f3-410d-d286-de928a1d065c"
   },
   "outputs": [],
   "source": [
    "from imblearn.over_sampling import SMOTE\n",
    "from imblearn.under_sampling import RandomUnderSampler\n",
    "from imblearn.pipeline import Pipeline"
   ]
  },
  {
   "cell_type": "markdown",
   "metadata": {
    "id": "pQVK2YU4-8Vh"
   },
   "source": [
    "**SMOTE TECHNIQUE**\n",
    "\n",
    "\n",
    "*   To have the better performance, I have used combination of SMOTE with random undersampling of the majority class.\n",
    "*   I have first oversampled the minority class to have 10 percent of the number of examples of the majority class, followed by random undersampling to reduce the number of examples in the majority class to have 50 percent more than the minority class.\n",
    "*   Implemented the above technique by using a pipeline."
   ]
  },
  {
   "cell_type": "code",
   "execution_count": 29,
   "metadata": {
    "colab": {
     "base_uri": "https://localhost:8080/"
    },
    "executionInfo": {
     "elapsed": 603047,
     "status": "ok",
     "timestamp": 1614925770770,
     "user": {
      "displayName": "swathi bodavula",
      "photoUrl": "https://lh3.googleusercontent.com/a-/AOh14GgrWmc5eDEGqJwkDV-2AzAcOv62Q2MuZeBvE0OdPw=s64",
      "userId": "12881957410691203182"
     },
     "user_tz": 360
    },
    "id": "Vfwe22zWequa",
    "outputId": "a1a89316-eb62-40da-a5f3-c722dd58ac21"
   },
   "outputs": [],
   "source": [
    "over = SMOTE(sampling_strategy = 0.1)\n",
    "under = RandomUnderSampler(sampling_strategy = 0.5)\n",
    "steps = [(\"o\",over),(\"u\",under)]\n",
    "pipeline = Pipeline(steps = steps)\n",
    "\n",
    "X,y = pipeline.fit_resample(X,y)\n",
    "\n",
    "X_train, X_test, Y_train, Y_test = train_test_split(X, y, test_size = 0.2, random_state = 42)"
   ]
  },
  {
   "cell_type": "code",
   "execution_count": 30,
   "metadata": {
    "executionInfo": {
     "elapsed": 676652,
     "status": "ok",
     "timestamp": 1614925844378,
     "user": {
      "displayName": "swathi bodavula",
      "photoUrl": "https://lh3.googleusercontent.com/a-/AOh14GgrWmc5eDEGqJwkDV-2AzAcOv62Q2MuZeBvE0OdPw=s64",
      "userId": "12881957410691203182"
     },
     "user_tz": 360
    },
    "id": "7X4f-Hu-4TUL"
   },
   "outputs": [],
   "source": [
    "rfc = RandomForestClassifier()\n",
    "rfc.fit(X_train,Y_train)\n",
    "y_pred = rfc.predict(X_test)"
   ]
  },
  {
   "cell_type": "markdown",
   "metadata": {
    "id": "-4zipPC4BmwE"
   },
   "source": [
    " *  After implementation of SMOTE technique,the recall has improved  to 85% approximately. \n",
    " * The precsion is 93% approximately, so out of 100 transactions the model predicts 93 correctly.\n"
   ]
  },
  {
   "cell_type": "code",
   "execution_count": 31,
   "metadata": {
    "colab": {
     "base_uri": "https://localhost:8080/"
    },
    "executionInfo": {
     "elapsed": 676659,
     "status": "ok",
     "timestamp": 1614925844387,
     "user": {
      "displayName": "swathi bodavula",
      "photoUrl": "https://lh3.googleusercontent.com/a-/AOh14GgrWmc5eDEGqJwkDV-2AzAcOv62Q2MuZeBvE0OdPw=s64",
      "userId": "12881957410691203182"
     },
     "user_tz": 360
    },
    "id": "EE2RDp3j4V-B",
    "outputId": "11c37d97-c104-4a83-9ecf-e692663e66e6"
   },
   "outputs": [
    {
     "name": "stdout",
     "output_type": "stream",
     "text": [
      "The accuracy is 0.9308282408009362\n",
      "The precision is 0.9347826086956522\n",
      "The recall is 0.8537906137184116\n",
      "The F1-Score is 0.8924528301886793\n"
     ]
    }
   ],
   "source": [
    "# accuarcy\n",
    "accuracy = accuracy_score(Y_test,y_pred)\n",
    "print(\"The accuracy is {}\".format(accuracy))\n",
    "\n",
    "# precision\n",
    "precision = precision_score(Y_test,y_pred)\n",
    "print(\"The precision is {}\".format(precision))\n",
    "\n",
    "# recall\n",
    "recall = recall_score(Y_test,y_pred)\n",
    "print(\"The recall is {}\".format(recall))\n",
    "\n",
    "# f1_score\n",
    "F1_score = f1_score(Y_test,y_pred)\n",
    "\n",
    "print(\"The F1-Score is {}\".format(F1_score))"
   ]
  },
  {
   "cell_type": "markdown",
   "metadata": {
    "id": "giaNR92lD38u"
   },
   "source": [
    "**If I have more time.**\n",
    "*   Plot the correaltion maps among the variables.\n",
    "*   I will implementK-fold Cross validation, it ensures a less biased model compared to other models.\n",
    "*   To reduce the number of fetures, I will use the principal component analysis (PCA).\n",
    "*   Implement other models like Isolation Forest, Neural Networks to improve recall.\n",
    "* Instead of OverSampling and UnderSampling, will penalize the minority class with more weight compare to majority class.\n",
    "\n"
   ]
  }
 ],
 "metadata": {
  "colab": {
   "collapsed_sections": [],
   "name": "Transactions.ipynb",
   "provenance": [],
   "toc_visible": true
  },
  "kernelspec": {
   "display_name": "Python 3",
   "language": "python",
   "name": "python3"
  },
  "language_info": {
   "codemirror_mode": {
    "name": "ipython",
    "version": 3
   },
   "file_extension": ".py",
   "mimetype": "text/x-python",
   "name": "python",
   "nbconvert_exporter": "python",
   "pygments_lexer": "ipython3",
   "version": "3.7.4"
  }
 },
 "nbformat": 4,
 "nbformat_minor": 1
}
